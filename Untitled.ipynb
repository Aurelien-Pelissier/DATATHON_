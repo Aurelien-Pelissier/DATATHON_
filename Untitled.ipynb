{
 "cells": [
  {
   "cell_type": "code",
   "execution_count": 1,
   "id": "7dd06d84",
   "metadata": {},
   "outputs": [],
   "source": [
    "import json\n",
    "  \n",
    "# Opening JSON file\n",
    "f = open('/home/username/Desktop/DATATHON_/adobe_extractor/adobe-dc-pdf-services-sdk-extract-python-samples/output/ExtractTextInfoFromPDF/structuredData.json')\n",
    "  \n",
    "# returns JSON object as \n",
    "# a dictionary\n",
    "data = json.load(f)"
   ]
  },
  {
   "cell_type": "code",
   "execution_count": 3,
   "id": "b180ce08",
   "metadata": {},
   "outputs": [
    {
     "data": {
      "text/plain": [
       "dict_keys(['version', 'extended_metadata', 'elements', 'pages'])"
      ]
     },
     "execution_count": 3,
     "metadata": {},
     "output_type": "execute_result"
    }
   ],
   "source": [
    "data.keys()"
   ]
  },
  {
   "cell_type": "code",
   "execution_count": 18,
   "id": "4d23342d",
   "metadata": {},
   "outputs": [
    {
     "data": {
      "text/plain": [
       "24.960006713867188"
      ]
     },
     "execution_count": 18,
     "metadata": {},
     "output_type": "execute_result"
    }
   ],
   "source": [
    "data[\"elements\"][1][\"TextSize\"]"
   ]
  },
  {
   "cell_type": "code",
   "execution_count": 13,
   "id": "2615911c",
   "metadata": {},
   "outputs": [
    {
     "name": "stdout",
     "output_type": "stream",
     "text": [
      "General terms and conditions of insurance of Allianz Travel \n",
      "Secure Trip Budget \n",
      "Customer information and General terms and conditions of insurance \n",
      "Secure Trip Budget \n",
      "Customer information under the Swiss Insurance Contract Act (ICA) \n",
      "Cancellation costs \n",
      "Medical assistance \n",
      "Travel assistance \n",
      "Assistance in the event of death \n",
      "Search and rescue costs \n",
      "Flight delay \n",
      "All insurance components \n",
      "Cancellation costs \n",
      "Medical assistance \n",
      "Travel assistance \n",
      "All insurance components \n",
      "Cancellation costs \n",
      "Medical assistance / Travel assistance / Assistance in the event of death \n",
      "Search and rescue costs / Flight delay \n",
      "Table of benefits \n",
      "Insurance components \n",
      "(Indemnity insurances) \n",
      "Insured benefits \n",
      "Maximum insured amount \n",
      "Table of service features excluding assumption of costs \n",
      "G Service components \n",
      "Service features \n",
      "Contact address for complaints \n",
      "General terms and conditions of insurance (GTC) \n",
      "I Common provisions to all insurance components \n",
      "II Special provisions for the individual insurance components \n",
      "A Cancellation costs \n",
      "B Medical assistance \n",
      "C Travel assistance \n",
      "D Assistance in the event of death \n",
      "E Search and rescue costs \n",
      "F Flight delay \n",
      "III Special provisions relating to the individual service components \n",
      "G Overview of services excluding assumption of costs \n",
      "Allianz Travel \n"
     ]
    }
   ],
   "source": [
    "for ele in range(len(data[\"elements\"])):\n",
    "    if \"Font\" in list(data[\"elements\"][ele].keys()):\n",
    "        if data[\"elements\"][ele][\"Font\"][\"weight\"]==700:\n",
    "            print(data[\"elements\"][ele][\"Text\"])"
   ]
  },
  {
   "cell_type": "code",
   "execution_count": null,
   "id": "067c2d38",
   "metadata": {},
   "outputs": [],
   "source": []
  }
 ],
 "metadata": {
  "kernelspec": {
   "display_name": "Python 3 (ipykernel)",
   "language": "python",
   "name": "python3"
  },
  "language_info": {
   "codemirror_mode": {
    "name": "ipython",
    "version": 3
   },
   "file_extension": ".py",
   "mimetype": "text/x-python",
   "name": "python",
   "nbconvert_exporter": "python",
   "pygments_lexer": "ipython3",
   "version": "3.9.7"
  }
 },
 "nbformat": 4,
 "nbformat_minor": 5
}
